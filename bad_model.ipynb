{
 "cells": [
  {
   "cell_type": "code",
   "execution_count": 1,
   "id": "bb66ce85",
   "metadata": {},
   "outputs": [],
   "source": [
    "from sklearn import tree\n",
    "import pandas as pd"
   ]
  },
  {
   "cell_type": "code",
   "execution_count": 2,
   "id": "ca939563",
   "metadata": {},
   "outputs": [],
   "source": [
    "df = pd.read_csv('resources/big_filtered.csv')"
   ]
  },
  {
   "cell_type": "code",
   "execution_count": 3,
   "id": "81155be8",
   "metadata": {},
   "outputs": [],
   "source": [
    "df=df[[\"duration\",\"budget\", \"worlwide_gross_income\",\"production_company\"]]"
   ]
  },
  {
   "cell_type": "code",
   "execution_count": 4,
   "id": "3cc28ef8",
   "metadata": {},
   "outputs": [
    {
     "data": {
      "text/html": [
       "<div>\n",
       "<style scoped>\n",
       "    .dataframe tbody tr th:only-of-type {\n",
       "        vertical-align: middle;\n",
       "    }\n",
       "\n",
       "    .dataframe tbody tr th {\n",
       "        vertical-align: top;\n",
       "    }\n",
       "\n",
       "    .dataframe thead th {\n",
       "        text-align: right;\n",
       "    }\n",
       "</style>\n",
       "<table border=\"1\" class=\"dataframe\">\n",
       "  <thead>\n",
       "    <tr style=\"text-align: right;\">\n",
       "      <th></th>\n",
       "      <th>duration</th>\n",
       "      <th>budget</th>\n",
       "      <th>worlwide_gross_income</th>\n",
       "      <th>production_company</th>\n",
       "    </tr>\n",
       "  </thead>\n",
       "  <tbody>\n",
       "    <tr>\n",
       "      <th>0</th>\n",
       "      <td>76</td>\n",
       "      <td>1</td>\n",
       "      <td>516660</td>\n",
       "      <td>23ten</td>\n",
       "    </tr>\n",
       "    <tr>\n",
       "      <th>1</th>\n",
       "      <td>91</td>\n",
       "      <td>2</td>\n",
       "      <td>471182</td>\n",
       "      <td>Two Productions</td>\n",
       "    </tr>\n",
       "    <tr>\n",
       "      <th>2</th>\n",
       "      <td>162</td>\n",
       "      <td>18</td>\n",
       "      <td>35797045</td>\n",
       "      <td>Aksoy Film</td>\n",
       "    </tr>\n",
       "    <tr>\n",
       "      <th>3</th>\n",
       "      <td>86</td>\n",
       "      <td>900</td>\n",
       "      <td>12097</td>\n",
       "      <td>FFM Productions</td>\n",
       "    </tr>\n",
       "    <tr>\n",
       "      <th>4</th>\n",
       "      <td>113</td>\n",
       "      <td>1000</td>\n",
       "      <td>4569780</td>\n",
       "      <td>Beautiful Pictures</td>\n",
       "    </tr>\n",
       "    <tr>\n",
       "      <th>...</th>\n",
       "      <td>...</td>\n",
       "      <td>...</td>\n",
       "      <td>...</td>\n",
       "      <td>...</td>\n",
       "    </tr>\n",
       "    <tr>\n",
       "      <th>8108</th>\n",
       "      <td>169</td>\n",
       "      <td>300000000</td>\n",
       "      <td>960996492</td>\n",
       "      <td>Walt Disney Pictures</td>\n",
       "    </tr>\n",
       "    <tr>\n",
       "      <th>8109</th>\n",
       "      <td>120</td>\n",
       "      <td>300000000</td>\n",
       "      <td>681871991</td>\n",
       "      <td>Warner Bros.</td>\n",
       "    </tr>\n",
       "    <tr>\n",
       "      <th>8110</th>\n",
       "      <td>152</td>\n",
       "      <td>317000000</td>\n",
       "      <td>1332540187</td>\n",
       "      <td>Walt Disney Pictures</td>\n",
       "    </tr>\n",
       "    <tr>\n",
       "      <th>8111</th>\n",
       "      <td>149</td>\n",
       "      <td>321000000</td>\n",
       "      <td>2048359754</td>\n",
       "      <td>Marvel Studios</td>\n",
       "    </tr>\n",
       "    <tr>\n",
       "      <th>8112</th>\n",
       "      <td>181</td>\n",
       "      <td>356000000</td>\n",
       "      <td>2797800564</td>\n",
       "      <td>Marvel Studios</td>\n",
       "    </tr>\n",
       "  </tbody>\n",
       "</table>\n",
       "<p>8113 rows × 4 columns</p>\n",
       "</div>"
      ],
      "text/plain": [
       "      duration     budget  worlwide_gross_income    production_company\n",
       "0           76          1                 516660                 23ten\n",
       "1           91          2                 471182       Two Productions\n",
       "2          162         18               35797045            Aksoy Film\n",
       "3           86        900                  12097       FFM Productions\n",
       "4          113       1000                4569780    Beautiful Pictures\n",
       "...        ...        ...                    ...                   ...\n",
       "8108       169  300000000              960996492  Walt Disney Pictures\n",
       "8109       120  300000000              681871991          Warner Bros.\n",
       "8110       152  317000000             1332540187  Walt Disney Pictures\n",
       "8111       149  321000000             2048359754        Marvel Studios\n",
       "8112       181  356000000             2797800564        Marvel Studios\n",
       "\n",
       "[8113 rows x 4 columns]"
      ]
     },
     "execution_count": 4,
     "metadata": {},
     "output_type": "execute_result"
    }
   ],
   "source": [
    "df"
   ]
  },
  {
   "cell_type": "code",
   "execution_count": 5,
   "id": "08d05a41",
   "metadata": {},
   "outputs": [],
   "source": [
    "s=pd.cut(df[\"worlwide_gross_income\"], 5, labels=[\"1\",\"2\",\"3\",\"4\",\"5\"])"
   ]
  },
  {
   "cell_type": "code",
   "execution_count": 6,
   "id": "62786c27",
   "metadata": {},
   "outputs": [
    {
     "data": {
      "text/html": [
       "<div>\n",
       "<style scoped>\n",
       "    .dataframe tbody tr th:only-of-type {\n",
       "        vertical-align: middle;\n",
       "    }\n",
       "\n",
       "    .dataframe tbody tr th {\n",
       "        vertical-align: top;\n",
       "    }\n",
       "\n",
       "    .dataframe thead th {\n",
       "        text-align: right;\n",
       "    }\n",
       "</style>\n",
       "<table border=\"1\" class=\"dataframe\">\n",
       "  <thead>\n",
       "    <tr style=\"text-align: right;\">\n",
       "      <th></th>\n",
       "      <th>duration</th>\n",
       "      <th>budget</th>\n",
       "      <th>worlwide_gross_income</th>\n",
       "      <th>production_company</th>\n",
       "    </tr>\n",
       "  </thead>\n",
       "  <tbody>\n",
       "    <tr>\n",
       "      <th>0</th>\n",
       "      <td>76</td>\n",
       "      <td>1</td>\n",
       "      <td>1</td>\n",
       "      <td>23ten</td>\n",
       "    </tr>\n",
       "    <tr>\n",
       "      <th>1</th>\n",
       "      <td>91</td>\n",
       "      <td>2</td>\n",
       "      <td>1</td>\n",
       "      <td>Two Productions</td>\n",
       "    </tr>\n",
       "    <tr>\n",
       "      <th>2</th>\n",
       "      <td>162</td>\n",
       "      <td>18</td>\n",
       "      <td>1</td>\n",
       "      <td>Aksoy Film</td>\n",
       "    </tr>\n",
       "    <tr>\n",
       "      <th>3</th>\n",
       "      <td>86</td>\n",
       "      <td>900</td>\n",
       "      <td>1</td>\n",
       "      <td>FFM Productions</td>\n",
       "    </tr>\n",
       "    <tr>\n",
       "      <th>4</th>\n",
       "      <td>113</td>\n",
       "      <td>1000</td>\n",
       "      <td>1</td>\n",
       "      <td>Beautiful Pictures</td>\n",
       "    </tr>\n",
       "  </tbody>\n",
       "</table>\n",
       "</div>"
      ],
      "text/plain": [
       "   duration  budget worlwide_gross_income  production_company\n",
       "0        76       1                     1               23ten\n",
       "1        91       2                     1     Two Productions\n",
       "2       162      18                     1          Aksoy Film\n",
       "3        86     900                     1     FFM Productions\n",
       "4       113    1000                     1  Beautiful Pictures"
      ]
     },
     "execution_count": 6,
     "metadata": {},
     "output_type": "execute_result"
    }
   ],
   "source": [
    "df['worlwide_gross_income']=s\n",
    "df.head()"
   ]
  },
  {
   "cell_type": "code",
   "execution_count": 7,
   "id": "c22aaa1b",
   "metadata": {},
   "outputs": [],
   "source": [
    "X=df[['duration','budget']]#features\n",
    "y=df['worlwide_gross_income']#labels"
   ]
  },
  {
   "cell_type": "code",
   "execution_count": 8,
   "id": "dd7da121",
   "metadata": {},
   "outputs": [
    {
     "data": {
      "text/plain": [
       "2157    1\n",
       "453     1\n",
       "8044    4\n",
       "3985    1\n",
       "5366    1\n",
       "       ..\n",
       "7942    2\n",
       "5624    1\n",
       "7743    1\n",
       "1600    1\n",
       "7338    1\n",
       "Name: worlwide_gross_income, Length: 2029, dtype: category\n",
       "Categories (5, object): ['1' < '2' < '3' < '4' < '5']"
      ]
     },
     "execution_count": 8,
     "metadata": {},
     "output_type": "execute_result"
    }
   ],
   "source": [
    "from sklearn.model_selection import train_test_split\n",
    "X_train, X_test, y_train, y_test = train_test_split(X, y, random_state=42)\n",
    "y_test"
   ]
  },
  {
   "cell_type": "code",
   "execution_count": 9,
   "id": "b3632ad2",
   "metadata": {},
   "outputs": [],
   "source": [
    "from sklearn.ensemble import RandomForestClassifier\n",
    "rf = RandomForestClassifier()"
   ]
  },
  {
   "cell_type": "code",
   "execution_count": 10,
   "id": "48b0f61a",
   "metadata": {},
   "outputs": [],
   "source": [
    "rf = rf.fit(X_train, y_train)"
   ]
  },
  {
   "cell_type": "code",
   "execution_count": 11,
   "id": "fe6a0e64",
   "metadata": {},
   "outputs": [],
   "source": [
    "y_pred=rf.predict(X_test)"
   ]
  },
  {
   "cell_type": "code",
   "execution_count": 12,
   "id": "bf5f0c7b",
   "metadata": {},
   "outputs": [
    {
     "name": "stdout",
     "output_type": "stream",
     "text": [
      "Accuracy: 0.9743716116313454\n"
     ]
    }
   ],
   "source": [
    "#Import scikit-learn metrics module for accuracy calculation\n",
    "from sklearn import metrics\n",
    "# Model Accuracy, how often is the classifier correct?\n",
    "print(\"Accuracy:\",metrics.accuracy_score(y_test, y_pred))"
   ]
  },
  {
   "cell_type": "code",
   "execution_count": 13,
   "id": "adb00d34",
   "metadata": {},
   "outputs": [
    {
     "data": {
      "text/plain": [
       "array(['2'], dtype=object)"
      ]
     },
     "execution_count": 13,
     "metadata": {},
     "output_type": "execute_result"
    }
   ],
   "source": [
    "rf.predict([[120,500000000]])"
   ]
  },
  {
   "cell_type": "code",
   "execution_count": null,
   "id": "7198723f",
   "metadata": {},
   "outputs": [],
   "source": []
  }
 ],
 "metadata": {
  "kernelspec": {
   "display_name": "Python 3",
   "language": "python",
   "name": "python3"
  },
  "language_info": {
   "codemirror_mode": {
    "name": "ipython",
    "version": 3
   },
   "file_extension": ".py",
   "mimetype": "text/x-python",
   "name": "python",
   "nbconvert_exporter": "python",
   "pygments_lexer": "ipython3",
   "version": "3.8.8"
  }
 },
 "nbformat": 4,
 "nbformat_minor": 5
}
